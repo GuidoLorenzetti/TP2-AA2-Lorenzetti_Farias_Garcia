{
  "cells": [
    {
      "cell_type": "markdown",
      "metadata": {
        "id": "view-in-github",
        "colab_type": "text"
      },
      "source": [
        "<a href=\"https://colab.research.google.com/github/GuidoLorenzetti/TP2-AA2-Lorenzetti_Farias_Garcia/blob/main/Ejercicio%202/EJ2_Train_TP2.ipynb\" target=\"_parent\"><img src=\"https://colab.research.google.com/assets/colab-badge.svg\" alt=\"Open In Colab\"/></a>"
      ]
    },
    {
      "cell_type": "markdown",
      "source": [
        "# Trabajo Practico Final - Aprendizaje Automático II\n"
      ],
      "metadata": {
        "id": "tznqgJL00Byo"
      }
    },
    {
      "cell_type": "markdown",
      "source": [
        "## Integrantes:"
      ],
      "metadata": {
        "id": "ZJzhJAPQ0Fnl"
      }
    },
    {
      "cell_type": "markdown",
      "source": [
        "*   Lorenzetti, Guido\n",
        "*   Farias, Augusto\n",
        "*   Garica, Timoteo\n"
      ],
      "metadata": {
        "id": "b0LZ_9d51Q_X"
      }
    },
    {
      "cell_type": "markdown",
      "source": [
        "## Problema 2 - Fake News"
      ],
      "metadata": {
        "id": "cLQpzpxX0IiF"
      }
    },
    {
      "cell_type": "markdown",
      "source": [
        "El objetivo de este ejercicio es construir modelos de generación de texto utilizando redes neuronales que puedan generar noticias ficticias.\n"
      ],
      "metadata": {
        "id": "tbV25tA00lKt"
      }
    },
    {
      "cell_type": "markdown",
      "source": [
        "## Setup"
      ],
      "metadata": {
        "id": "4jBP0-g41YRy"
      }
    },
    {
      "cell_type": "code",
      "execution_count": null,
      "metadata": {
        "id": "W2Os-r_LyYsh",
        "outputId": "7160c64a-4931-4cc1-a9cd-4d29b750c44d"
      },
      "outputs": [
        {
          "name": "stdout",
          "output_type": "stream",
          "text": [
            "1 Physical GPUs, 1 Logical GPUs\n"
          ]
        }
      ],
      "source": [
        "import tensorflow as tf\n",
        "\n",
        "# Configurar para que TensorFlow utilice la GPU por defecto\n",
        "gpus = tf.config.experimental.list_physical_devices('GPU')\n",
        "if gpus:\n",
        "    try:\n",
        "        # Configurar para que TensorFlow asigne memoria dinámicamente\n",
        "        for gpu in gpus:\n",
        "            tf.config.experimental.set_memory_growth(gpu, True)\n",
        "        # Especificar la GPU por defecto\n",
        "        logical_gpus = tf.config.experimental.list_logical_devices('GPU')\n",
        "        print(len(gpus), \"Physical GPUs,\", len(logical_gpus), \"Logical GPUs\")\n",
        "    except RuntimeError as e:\n",
        "        # Manejar error\n",
        "        print(e)"
      ]
    },
    {
      "cell_type": "markdown",
      "metadata": {
        "id": "sv6WhqzdyYsl"
      },
      "source": [
        "# Cargar y preparar el dataset\n",
        "\n",
        "En esta sección, cargamos el dataset `ag_news_subset` usando `tensorflow_datasets` y preparamos los datos de texto para el entrenamiento."
      ]
    },
    {
      "cell_type": "code",
      "execution_count": null,
      "metadata": {
        "id": "mwN2ankhyYso",
        "outputId": "fe511aa9-6bff-45b2-f4d9-b2f2ee948417"
      },
      "outputs": [
        {
          "name": "stdout",
          "output_type": "stream",
          "text": [
            "Texto total: 23328241 caracteres\n"
          ]
        }
      ],
      "source": [
        "import tensorflow_datasets as tfds\n",
        "import numpy as np\n",
        "import os\n",
        "\n",
        "# Cargar el dataset de noticias\n",
        "dataset, info = tfds.load('ag_news_subset', with_info=True, as_supervised=True)\n",
        "train_dataset, test_dataset = dataset['train'], dataset['test']\n",
        "\n",
        "# Convertir a texto plano\n",
        "train_texts = []\n",
        "for text, label in tfds.as_numpy(train_dataset):\n",
        "    train_texts.append(text.decode('utf-8'))\n",
        "\n",
        "# Concatenar todos los textos en uno solo\n",
        "text = ' '.join(train_texts)\n",
        "print(f'Texto total: {len(text)} caracteres')"
      ]
    },
    {
      "cell_type": "markdown",
      "metadata": {
        "id": "YipSl2jpyYsq"
      },
      "source": [
        "# Crear secuencias de caracteres\n",
        "\n",
        "En esta sección, creamos un mapeo de caracteres a índices y convertimos los textos en secuencias de índices. También preparamos las secuencias de entrada y salida para el modelo.\n"
      ]
    },
    {
      "cell_type": "code",
      "execution_count": null,
      "metadata": {
        "id": "XhT_203VyYss"
      },
      "outputs": [],
      "source": [
        "# Crear un mapeo de caracteres a índices\n",
        "vocab = sorted(set(text))\n",
        "char2idx = {u: i for i, u in enumerate(vocab)}\n",
        "idx2char = np.array(vocab)\n",
        "\n",
        "# Convertir los caracteres a índices\n",
        "text_as_int = np.array([char2idx[c] for c in text])\n",
        "\n",
        "# Crear secuencias de entrada y salida\n",
        "seq_length = 100\n",
        "examples_per_epoch = len(text) // seq_length\n",
        "\n",
        "char_dataset = tf.data.Dataset.from_tensor_slices(text_as_int)\n",
        "sequences = char_dataset.batch(seq_length + 1, drop_remainder=True)\n",
        "\n",
        "def split_input_target(chunk):\n",
        "    input_text = chunk[:-1]\n",
        "    target_text = chunk[1:]\n",
        "    return input_text, target_text\n",
        "\n",
        "dataset = sequences.map(split_input_target)\n",
        "\n",
        "# Crear lotes de entrenamiento\n",
        "BATCH_SIZE = 64\n",
        "BUFFER_SIZE = 10000\n",
        "dataset = dataset.shuffle(BUFFER_SIZE).batch(BATCH_SIZE, drop_remainder=True)"
      ]
    },
    {
      "cell_type": "markdown",
      "metadata": {
        "id": "gtYbJclQyYst"
      },
      "source": [
        "# Construcción del modelo\n",
        "\n",
        "Construimos el modelo de RNN usando capas de LSTM y Dense. También definimos las épocas."
      ]
    },
    {
      "cell_type": "code",
      "execution_count": null,
      "metadata": {
        "id": "3EfAHcf5yYsu"
      },
      "outputs": [],
      "source": [
        "EPOCHS = 50"
      ]
    },
    {
      "cell_type": "markdown",
      "metadata": {
        "id": "dRh2rt6TyYsv"
      },
      "source": [
        "# Construcción y entrenamiento del modelo\n",
        "\n",
        "En esta sección, construimos un modelo secuencial de caractéres de TensorFlow que utiliza dos capas GRU (Gated Recurrent Unit) y una capa densa para la generación de texto. Se define una función de pérdida personalizada que utiliza `sparse_categorical_crossentropy` y se compila el modelo con el optimizador Adam. Finalmente, entrenamos el modelo con el dataset preparado y guardamos el modelo entrenado en un archivo."
      ]
    },
    {
      "cell_type": "code",
      "execution_count": null,
      "metadata": {
        "id": "XqORbjxiyYsx",
        "outputId": "726e9dff-2b45-4c79-e414-a942d391029f"
      },
      "outputs": [
        {
          "name": "stdout",
          "output_type": "stream",
          "text": [
            "Epoch 1/50\n",
            "3608/3608 [==============================] - 88s 23ms/step - loss: 1.4579\n",
            "Epoch 2/50\n",
            "3608/3608 [==============================] - 85s 23ms/step - loss: 1.1898\n",
            "Epoch 3/50\n",
            "3608/3608 [==============================] - 86s 24ms/step - loss: 1.1569\n",
            "Epoch 4/50\n",
            "3608/3608 [==============================] - 80s 22ms/step - loss: 1.1472\n",
            "Epoch 5/50\n",
            "3608/3608 [==============================] - 79s 22ms/step - loss: 1.1477\n",
            "Epoch 6/50\n",
            "3608/3608 [==============================] - 79s 22ms/step - loss: 1.1571\n",
            "Epoch 7/50\n",
            "3608/3608 [==============================] - 82s 23ms/step - loss: 1.2028\n",
            "Epoch 8/50\n",
            "3608/3608 [==============================] - 83s 23ms/step - loss: 1.7619\n",
            "Epoch 9/50\n",
            "3608/3608 [==============================] - 82s 23ms/step - loss: 2.0328\n",
            "Epoch 10/50\n",
            "3608/3608 [==============================] - 81s 22ms/step - loss: 1.9515\n",
            "Epoch 11/50\n",
            "3608/3608 [==============================] - 79s 22ms/step - loss: 1.7585\n",
            "Epoch 12/50\n",
            "3608/3608 [==============================] - 78s 21ms/step - loss: 1.4976\n",
            "Epoch 13/50\n",
            "3608/3608 [==============================] - 78s 22ms/step - loss: 1.3805\n",
            "Epoch 14/50\n",
            "3608/3608 [==============================] - 79s 22ms/step - loss: 1.3292\n",
            "Epoch 15/50\n",
            "3608/3608 [==============================] - 79s 22ms/step - loss: 1.2995\n",
            "Epoch 16/50\n",
            "3608/3608 [==============================] - 78s 22ms/step - loss: 1.2817\n",
            "Epoch 17/50\n",
            "3608/3608 [==============================] - 78s 21ms/step - loss: 1.2751\n",
            "Epoch 18/50\n",
            "3608/3608 [==============================] - 79s 22ms/step - loss: 1.2963\n",
            "Epoch 19/50\n",
            "3608/3608 [==============================] - 79s 22ms/step - loss: 1.3143\n",
            "Epoch 20/50\n",
            "3608/3608 [==============================] - 78s 22ms/step - loss: 1.7459\n",
            "Epoch 21/50\n",
            "3608/3608 [==============================] - 78s 21ms/step - loss: 2.0301\n",
            "Epoch 22/50\n",
            "3608/3608 [==============================] - 80s 22ms/step - loss: 2.0329\n",
            "Epoch 23/50\n",
            "3608/3608 [==============================] - 79s 22ms/step - loss: 2.0443\n",
            "Epoch 24/50\n",
            "3608/3608 [==============================] - 78s 22ms/step - loss: 2.0608\n",
            "Epoch 25/50\n",
            "3608/3608 [==============================] - 79s 22ms/step - loss: 2.0644\n",
            "Epoch 26/50\n",
            "3608/3608 [==============================] - 78s 21ms/step - loss: 2.1538\n",
            "Epoch 27/50\n",
            "3608/3608 [==============================] - 79s 22ms/step - loss: 2.1400\n",
            "Epoch 28/50\n",
            "3608/3608 [==============================] - 78s 21ms/step - loss: 2.1021\n",
            "Epoch 29/50\n",
            "3608/3608 [==============================] - 78s 21ms/step - loss: 2.1243\n",
            "Epoch 30/50\n",
            "3608/3608 [==============================] - 78s 22ms/step - loss: 2.1417\n",
            "Epoch 31/50\n",
            "3608/3608 [==============================] - 78s 21ms/step - loss: 2.1521\n",
            "Epoch 32/50\n",
            "3608/3608 [==============================] - 79s 22ms/step - loss: 2.1178\n",
            "Epoch 33/50\n",
            "3608/3608 [==============================] - 78s 22ms/step - loss: 2.0855\n",
            "Epoch 34/50\n",
            "3608/3608 [==============================] - 79s 22ms/step - loss: 1.8891\n",
            "Epoch 35/50\n",
            "3608/3608 [==============================] - 78s 22ms/step - loss: 1.6608\n",
            "Epoch 36/50\n",
            "3608/3608 [==============================] - 79s 22ms/step - loss: 1.5164\n",
            "Epoch 37/50\n",
            "3608/3608 [==============================] - 79s 22ms/step - loss: 1.4509\n",
            "Epoch 38/50\n",
            "3608/3608 [==============================] - 78s 21ms/step - loss: 1.4122\n",
            "Epoch 39/50\n",
            "3608/3608 [==============================] - 79s 22ms/step - loss: 1.3888\n",
            "Epoch 40/50\n",
            "3608/3608 [==============================] - 77s 21ms/step - loss: 1.3717\n",
            "Epoch 41/50\n",
            "3608/3608 [==============================] - 78s 22ms/step - loss: 1.3588\n",
            "Epoch 42/50\n",
            "3608/3608 [==============================] - 78s 21ms/step - loss: 1.3481\n",
            "Epoch 43/50\n",
            "3608/3608 [==============================] - 79s 22ms/step - loss: 1.3410\n",
            "Epoch 44/50\n",
            "3608/3608 [==============================] - 79s 22ms/step - loss: 1.3336\n",
            "Epoch 45/50\n",
            "3608/3608 [==============================] - 78s 22ms/step - loss: 1.3279\n",
            "Epoch 46/50\n",
            "3608/3608 [==============================] - 78s 21ms/step - loss: 1.3237\n",
            "Epoch 47/50\n",
            "3608/3608 [==============================] - 78s 21ms/step - loss: 1.3214\n",
            "Epoch 48/50\n",
            "3608/3608 [==============================] - 79s 22ms/step - loss: 1.3177\n",
            "Epoch 49/50\n",
            "3608/3608 [==============================] - 79s 22ms/step - loss: 1.3199\n",
            "Epoch 50/50\n",
            "3608/3608 [==============================] - 79s 22ms/step - loss: 1.3136\n"
          ]
        }
      ],
      "source": [
        "# Construir el modelo\n",
        "vocab_size = len(vocab)\n",
        "embedding_dim = 256\n",
        "rnn_units = 1024\n",
        "\n",
        "model = tf.keras.Sequential([\n",
        "    tf.keras.layers.Embedding(vocab_size, embedding_dim, batch_input_shape=[BATCH_SIZE, None]),\n",
        "    tf.keras.layers.GRU(rnn_units, return_sequences=True, stateful=True, recurrent_initializer='glorot_uniform'),\n",
        "    tf.keras.layers.GRU(rnn_units, return_sequences=True, stateful=True, recurrent_initializer='glorot_uniform'),\n",
        "    tf.keras.layers.Dense(vocab_size)\n",
        "])\n",
        "\n",
        "# Función de pérdida\n",
        "def loss(labels, logits):\n",
        "    return tf.keras.losses.sparse_categorical_crossentropy(labels, logits, from_logits=True)\n",
        "\n",
        "model.compile(optimizer='adam', loss=loss)\n",
        "\n",
        "history = model.fit(dataset, epochs=EPOCHS)\n",
        "\n",
        "model.save('model_char.h5')"
      ]
    },
    {
      "cell_type": "markdown",
      "metadata": {
        "id": "UVap6w05yYsz"
      },
      "source": [
        "# Tokenización y preparación del dataset basado en palabras\n",
        "\n",
        "Tokenizamos el texto en palabras en lugar de caracteres, y preparamos los datos para el entrenamiento del modelo. Creamos un mapeo de palabras a índices y convertimos el texto en secuencias de índices. Luego, creamos las secuencias de entrada y salida necesarias para el entrenamiento del modelo y las organizamos en lotes.\n"
      ]
    },
    {
      "cell_type": "code",
      "execution_count": null,
      "metadata": {
        "id": "nAxam29syYs1"
      },
      "outputs": [],
      "source": [
        "import re\n",
        "\n",
        "# Tokenizar el texto en palabras\n",
        "words = re.findall(r'\\b\\w+\\b', text.lower())\n",
        "word2idx = {u: i for i, u in enumerate(set(words))}\n",
        "idx2word = np.array(list(set(words)))\n",
        "\n",
        "# Convertir las palabras a índices\n",
        "text_as_int = np.array([word2idx[w] for w in words])\n",
        "\n",
        "# Crear secuencias de entrada y salida\n",
        "seq_length = 20\n",
        "examples_per_epoch = len(words) // seq_length\n",
        "\n",
        "word_dataset = tf.data.Dataset.from_tensor_slices(text_as_int)\n",
        "sequences = word_dataset.batch(seq_length + 1, drop_remainder=True)\n",
        "\n",
        "def split_input_target(chunk):\n",
        "    input_text = chunk[:-1]\n",
        "    target_text = chunk[1:]\n",
        "    return input_text, target_text\n",
        "\n",
        "dataset = sequences.map(split_input_target)\n",
        "\n",
        "# Crear lotes de entrenamiento\n",
        "dataset = dataset.shuffle(BUFFER_SIZE).batch(BATCH_SIZE, drop_remainder=True)"
      ]
    },
    {
      "cell_type": "markdown",
      "metadata": {
        "id": "TYH5eiMUyYs3"
      },
      "source": [
        "# Construcción y entrenamiento del modelo basado en palabras\n",
        "\n",
        "Construimos un modelo secuencial de palabras de TensorFlow que utiliza dos capas GRU (Gated Recurrent Unit) y una capa densa para la generación de texto basado en palabras. Se compila el modelo con el optimizador Adam y la función de pérdida previamente definida. Finalmente, se entrena el modelo con el dataset preparado y se guarda el modelo entrenado en un archivo.\n"
      ]
    },
    {
      "cell_type": "code",
      "execution_count": null,
      "metadata": {
        "id": "ZNizOQjKyYs3",
        "outputId": "0f07587a-1512-41e4-957c-d974b2564db6"
      },
      "outputs": [
        {
          "name": "stdout",
          "output_type": "stream",
          "text": [
            "Epoch 1/50\n",
            "2900/2900 [==============================] - 115s 39ms/step - loss: 8.2471\n",
            "Epoch 2/50\n",
            "2900/2900 [==============================] - 113s 39ms/step - loss: 8.2565\n",
            "Epoch 3/50\n",
            "2900/2900 [==============================] - 113s 39ms/step - loss: 8.2609\n",
            "Epoch 4/50\n",
            "2900/2900 [==============================] - 113s 39ms/step - loss: 8.2602\n",
            "Epoch 5/50\n",
            "2900/2900 [==============================] - 114s 39ms/step - loss: 8.2606\n",
            "Epoch 6/50\n",
            "2900/2900 [==============================] - 113s 39ms/step - loss: 8.2604\n",
            "Epoch 7/50\n",
            "2900/2900 [==============================] - 114s 39ms/step - loss: 8.2600\n",
            "Epoch 8/50\n",
            "2900/2900 [==============================] - 113s 39ms/step - loss: 8.2594\n",
            "Epoch 9/50\n",
            "2900/2900 [==============================] - 113s 39ms/step - loss: 8.2592\n",
            "Epoch 10/50\n",
            "2900/2900 [==============================] - 114s 39ms/step - loss: 8.2615\n",
            "Epoch 11/50\n",
            "2900/2900 [==============================] - 113s 39ms/step - loss: 8.2605\n",
            "Epoch 12/50\n",
            "2900/2900 [==============================] - 113s 39ms/step - loss: 8.2599\n",
            "Epoch 13/50\n",
            "2900/2900 [==============================] - 114s 39ms/step - loss: 8.2606\n",
            "Epoch 14/50\n",
            "2900/2900 [==============================] - 113s 39ms/step - loss: 8.2601\n",
            "Epoch 15/50\n",
            "2900/2900 [==============================] - 114s 39ms/step - loss: 8.2601\n",
            "Epoch 16/50\n",
            "2900/2900 [==============================] - 114s 39ms/step - loss: 8.2593\n",
            "Epoch 17/50\n",
            "2900/2900 [==============================] - 114s 39ms/step - loss: 8.2600\n",
            "Epoch 18/50\n",
            "2900/2900 [==============================] - 114s 39ms/step - loss: 8.2592\n",
            "Epoch 19/50\n",
            "2900/2900 [==============================] - 113s 39ms/step - loss: 8.2594\n",
            "Epoch 20/50\n",
            "2900/2900 [==============================] - 114s 39ms/step - loss: 8.2598\n",
            "Epoch 21/50\n",
            "2900/2900 [==============================] - 114s 39ms/step - loss: 8.2601\n",
            "Epoch 22/50\n",
            "2900/2900 [==============================] - 114s 39ms/step - loss: 8.2606\n",
            "Epoch 23/50\n",
            "2900/2900 [==============================] - 115s 39ms/step - loss: 8.2592\n",
            "Epoch 24/50\n",
            "2900/2900 [==============================] - 114s 39ms/step - loss: 8.2603\n",
            "Epoch 25/50\n",
            "2900/2900 [==============================] - 114s 39ms/step - loss: 8.2600\n",
            "Epoch 26/50\n",
            "2900/2900 [==============================] - 113s 39ms/step - loss: 8.2599\n",
            "Epoch 27/50\n",
            "2900/2900 [==============================] - 113s 39ms/step - loss: 8.2600\n",
            "Epoch 28/50\n",
            "2900/2900 [==============================] - 114s 39ms/step - loss: 8.2593\n",
            "Epoch 29/50\n",
            "2900/2900 [==============================] - 113s 39ms/step - loss: 8.2601\n",
            "Epoch 30/50\n",
            "2900/2900 [==============================] - 113s 39ms/step - loss: 8.2601\n",
            "Epoch 31/50\n",
            "2900/2900 [==============================] - 113s 39ms/step - loss: 8.2594\n",
            "Epoch 32/50\n",
            "2900/2900 [==============================] - 113s 39ms/step - loss: 8.2593\n",
            "Epoch 33/50\n",
            "2900/2900 [==============================] - 113s 39ms/step - loss: 8.2592\n",
            "Epoch 34/50\n",
            "2900/2900 [==============================] - 113s 39ms/step - loss: 8.2604\n",
            "Epoch 35/50\n",
            "2900/2900 [==============================] - 113s 39ms/step - loss: 8.2603\n",
            "Epoch 36/50\n",
            "2900/2900 [==============================] - 114s 39ms/step - loss: 8.2602\n",
            "Epoch 37/50\n",
            "2900/2900 [==============================] - 113s 39ms/step - loss: 8.2592\n",
            "Epoch 38/50\n",
            "2900/2900 [==============================] - 114s 39ms/step - loss: 8.2602\n",
            "Epoch 39/50\n",
            "2900/2900 [==============================] - 113s 39ms/step - loss: 8.2608\n",
            "Epoch 40/50\n",
            "2900/2900 [==============================] - 113s 39ms/step - loss: 8.2588\n",
            "Epoch 41/50\n",
            "2900/2900 [==============================] - 114s 39ms/step - loss: 8.2594\n",
            "Epoch 42/50\n",
            "2900/2900 [==============================] - 113s 39ms/step - loss: 8.2599\n",
            "Epoch 43/50\n",
            "2900/2900 [==============================] - 113s 39ms/step - loss: 8.2600\n",
            "Epoch 44/50\n",
            "2900/2900 [==============================] - 114s 39ms/step - loss: 8.2602\n",
            "Epoch 45/50\n",
            "2900/2900 [==============================] - 113s 39ms/step - loss: 8.2597\n",
            "Epoch 46/50\n",
            "2900/2900 [==============================] - 114s 39ms/step - loss: 8.2605\n",
            "Epoch 47/50\n",
            "2900/2900 [==============================] - 114s 39ms/step - loss: 8.2600\n",
            "Epoch 48/50\n",
            "2900/2900 [==============================] - 113s 39ms/step - loss: 8.2603\n",
            "Epoch 49/50\n",
            "2900/2900 [==============================] - 114s 39ms/step - loss: 8.2603\n",
            "Epoch 50/50\n",
            "2900/2900 [==============================] - 113s 39ms/step - loss: 8.2603\n"
          ]
        }
      ],
      "source": [
        "# Construir el modelo\n",
        "vocab_size = len(word2idx)\n",
        "embedding_dim = 256\n",
        "rnn_units = 1024\n",
        "\n",
        "model = tf.keras.Sequential([\n",
        "    tf.keras.layers.Embedding(vocab_size, embedding_dim, batch_input_shape=[BATCH_SIZE, None]),\n",
        "    tf.keras.layers.GRU(rnn_units, return_sequences=True, stateful=True, recurrent_initializer='glorot_uniform'),\n",
        "    tf.keras.layers.GRU(rnn_units, return_sequences=True, stateful=True, recurrent_initializer='glorot_uniform'),\n",
        "    tf.keras.layers.Dense(vocab_size)\n",
        "])\n",
        "\n",
        "# Función de pérdida\n",
        "model.compile(optimizer='adam', loss=loss)\n",
        "\n",
        "# Entrenar el modelo\n",
        "history = model.fit(dataset, epochs=EPOCHS)\n",
        "\n",
        "model.save('model_words.h5')"
      ]
    }
  ],
  "metadata": {
    "kernelspec": {
      "display_name": "Python 3",
      "language": "python",
      "name": "python3"
    },
    "language_info": {
      "codemirror_mode": {
        "name": "ipython",
        "version": 3
      },
      "file_extension": ".py",
      "mimetype": "text/x-python",
      "name": "python",
      "nbconvert_exporter": "python",
      "pygments_lexer": "ipython3",
      "version": "3.10.0"
    },
    "colab": {
      "provenance": [],
      "include_colab_link": true
    }
  },
  "nbformat": 4,
  "nbformat_minor": 0
}